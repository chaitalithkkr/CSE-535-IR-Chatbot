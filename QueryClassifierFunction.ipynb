{
 "cells": [
  {
   "cell_type": "code",
   "execution_count": 1,
   "id": "024609b2",
   "metadata": {},
   "outputs": [],
   "source": [
    "from transformers import BertForSequenceClassification, BertTokenizer\n",
    "import torch"
   ]
  },
  {
   "cell_type": "code",
   "execution_count": 2,
   "id": "5301e6af",
   "metadata": {},
   "outputs": [],
   "source": [
    "model = BertForSequenceClassification.from_pretrained(\"./chitchat_wiki_classifier\")\n",
    "tokenizer = BertTokenizer.from_pretrained(\"./chitchat_wiki_classifier\")\n"
   ]
  },
  {
   "cell_type": "code",
   "execution_count": 3,
   "id": "1a4e9eae",
   "metadata": {},
   "outputs": [],
   "source": [
    "def classify_query(query):\n",
    "    inputs = tokenizer(query, return_tensors=\"pt\", truncation=True, padding=True, max_length=64)\n",
    "    outputs = model(**inputs)\n",
    "    logits = outputs.logits\n",
    "    label = torch.argmax(logits, dim=1).item()\n",
    "    return \"chit-chat\" if label == 0 else \"wiki/topic\""
   ]
  },
  {
   "cell_type": "code",
   "execution_count": 12,
   "id": "2b7e736b",
   "metadata": {},
   "outputs": [
    {
     "name": "stdout",
     "output_type": "stream",
     "text": [
      "Query: What are you upto today?\n",
      "Classification: chit-chat\n"
     ]
    }
   ],
   "source": [
    "query = \"What are you upto today?\"\n",
    "print(f\"Query: {query}\")\n",
    "print(f\"Classification: {classify_query(query)}\")"
   ]
  },
  {
   "cell_type": "code",
   "execution_count": null,
   "id": "8ebbf79b",
   "metadata": {},
   "outputs": [],
   "source": []
  },
  {
   "cell_type": "code",
   "execution_count": null,
   "id": "0681811d",
   "metadata": {},
   "outputs": [],
   "source": []
  }
 ],
 "metadata": {
  "kernelspec": {
   "display_name": "Python 3 (ipykernel)",
   "language": "python",
   "name": "python3"
  },
  "language_info": {
   "codemirror_mode": {
    "name": "ipython",
    "version": 3
   },
   "file_extension": ".py",
   "mimetype": "text/x-python",
   "name": "python",
   "nbconvert_exporter": "python",
   "pygments_lexer": "ipython3",
   "version": "3.11.4"
  }
 },
 "nbformat": 4,
 "nbformat_minor": 5
}
