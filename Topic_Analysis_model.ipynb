{
 "cells": [
  {
   "cell_type": "code",
   "execution_count": null,
   "id": "262d3133",
   "metadata": {},
   "outputs": [
    {
     "name": "stderr",
     "output_type": "stream",
     "text": [
      "Some weights of BertForSequenceClassification were not initialized from the model checkpoint at bert-base-uncased and are newly initialized: ['classifier.bias', 'classifier.weight']\n",
      "You should probably TRAIN this model on a down-stream task to be able to use it for predictions and inference.\n",
      "/Users/anirudh/anaconda3/lib/python3.11/site-packages/transformers/training_args.py:1568: FutureWarning: `evaluation_strategy` is deprecated and will be removed in version 4.46 of 🤗 Transformers. Use `eval_strategy` instead\n",
      "  warnings.warn(\n",
      "/var/folders/yr/9807pttx3mx1cpf56m5k5p300000gn/T/ipykernel_6906/2777837858.py:84: FutureWarning: `tokenizer` is deprecated and will be removed in version 5.0.0 for `Trainer.__init__`. Use `processing_class` instead.\n",
      "  trainer = Trainer(\n"
     ]
    },
    {
     "data": {
      "text/html": [
       "\n",
       "    <div>\n",
       "      \n",
       "      <progress value='40' max='12600' style='width:300px; height:20px; vertical-align: middle;'></progress>\n",
       "      [   40/12600 00:45 < 4:13:21, 0.83 it/s, Epoch 0.01/3]\n",
       "    </div>\n",
       "    <table border=\"1\" class=\"dataframe\">\n",
       "  <thead>\n",
       " <tr style=\"text-align: left;\">\n",
       "      <th>Epoch</th>\n",
       "      <th>Training Loss</th>\n",
       "      <th>Validation Loss</th>\n",
       "    </tr>\n",
       "  </thead>\n",
       "  <tbody>\n",
       "  </tbody>\n",
       "</table><p>"
      ],
      "text/plain": [
       "<IPython.core.display.HTML object>"
      ]
     },
     "metadata": {},
     "output_type": "display_data"
    }
   ],
   "source": [
    "# import pandas as pd\n",
    "# import json\n",
    "# from sklearn.model_selection import train_test_split\n",
    "# from transformers import BertTokenizer, BertForSequenceClassification\n",
    "# from transformers import Trainer, TrainingArguments\n",
    "# import torch\n",
    "# from torch.utils.data import Dataset\n",
    "\n",
    "# # Load the dataset\n",
    "# with open(\"wikipedia_scraped_data.json\", \"r\") as file:\n",
    "#     data = json.load(file)\n",
    "\n",
    "# # Prepare the dataset\n",
    "# records = []\n",
    "# for topic, articles in data.items():\n",
    "#     for article in articles:\n",
    "#         title = article[\"title\"] if isinstance(article[\"title\"], str) else \"\"\n",
    "#         summary = article[\"summary\"] if isinstance(article[\"summary\"], str) else \"\"\n",
    "#         records.append({\"text\": title + \" \" + summary, \"topic\": topic})\n",
    "\n",
    "# df = pd.DataFrame(records)\n",
    "\n",
    "# # Encode the topic labels\n",
    "# topic_labels = {topic: idx for idx, topic in enumerate(df[\"topic\"].unique())}\n",
    "# df[\"label\"] = df[\"topic\"].map(topic_labels)\n",
    "\n",
    "# # Train-test split\n",
    "# X_train, X_test, y_train, y_test = train_test_split(df[\"text\"], df[\"label\"], test_size=0.2, random_state=42)\n",
    "\n",
    "# # Define a custom dataset class\n",
    "# class TopicDataset(Dataset):\n",
    "#     def __init__(self, texts, labels, tokenizer, max_len):\n",
    "#         self.texts = texts\n",
    "#         self.labels = labels\n",
    "#         self.tokenizer = tokenizer\n",
    "#         self.max_len = max_len\n",
    "\n",
    "#     def __len__(self):\n",
    "#         return len(self.texts)\n",
    "\n",
    "#     def __getitem__(self, index):\n",
    "#         text = self.texts[index]\n",
    "#         label = self.labels[index]\n",
    "#         encoding = self.tokenizer(\n",
    "#             text,\n",
    "#             max_length=self.max_len,\n",
    "#             padding=\"max_length\",\n",
    "#             truncation=True,\n",
    "#             return_tensors=\"pt\",\n",
    "#         )\n",
    "#         return {\n",
    "#             \"input_ids\": encoding[\"input_ids\"].squeeze(0),\n",
    "#             \"attention_mask\": encoding[\"attention_mask\"].squeeze(0),\n",
    "#             \"labels\": torch.tensor(label, dtype=torch.long),\n",
    "#         }\n",
    "\n",
    "# # Initialize tokenizer\n",
    "# tokenizer = BertTokenizer.from_pretrained(\"bert-base-uncased\")\n",
    "\n",
    "# # Create datasets\n",
    "# train_dataset = TopicDataset(X_train.tolist(), y_train.tolist(), tokenizer, max_len=128)\n",
    "# test_dataset = TopicDataset(X_test.tolist(), y_test.tolist(), tokenizer, max_len=128)\n",
    "\n",
    "# # Load pre-trained model\n",
    "# model = BertForSequenceClassification.from_pretrained(\n",
    "#     \"bert-base-uncased\", num_labels=len(topic_labels)\n",
    "# )\n",
    "\n",
    "# # Define training arguments\n",
    "# training_args = TrainingArguments(\n",
    "#     output_dir=\"./results\",\n",
    "#     evaluation_strategy=\"epoch\",\n",
    "#     learning_rate=2e-5,\n",
    "#     per_device_train_batch_size=16,\n",
    "#     per_device_eval_batch_size=16,\n",
    "#     num_train_epochs=3,\n",
    "#     weight_decay=0.01,\n",
    "#     logging_dir=\"./logs\",\n",
    "#     logging_steps=10,\n",
    "#     save_strategy=\"epoch\",\n",
    "# )\n",
    "\n",
    "# # Define Trainer\n",
    "# trainer = Trainer(\n",
    "#     model=model,\n",
    "#     args=training_args,\n",
    "#     train_dataset=train_dataset,\n",
    "#     eval_dataset=test_dataset,\n",
    "#     tokenizer=tokenizer,\n",
    "# )\n",
    "\n",
    "# # Train the model\n",
    "# trainer.train()\n",
    "\n",
    "# # Save the model\n",
    "# model.save_pretrained(\"./topic_model\")\n",
    "# tokenizer.save_pretrained(\"./topic_model\")\n"
   ]
  },
  {
   "cell_type": "code",
   "execution_count": 4,
   "id": "13d29aa7",
   "metadata": {},
   "outputs": [
    {
     "name": "stdout",
     "output_type": "stream",
     "text": [
      "Model and tokenizer saved to ./saved_zero_shot_model\n"
     ]
    }
   ],
   "source": [
    "from transformers import pipeline, AutoTokenizer, AutoModelForSequenceClassification\n",
    "\n",
    "# Load the model and tokenizer\n",
    "model_name = \"MoritzLaurer/bge-m3-zeroshot-v2.0\"\n",
    "tokenizer = AutoTokenizer.from_pretrained(model_name)\n",
    "model = AutoModelForSequenceClassification.from_pretrained(model_name)\n",
    "\n",
    "# Save the model and tokenizer locally\n",
    "save_directory = \"./saved_zero_shot_model\"\n",
    "tokenizer.save_pretrained(save_directory)\n",
    "model.save_pretrained(save_directory)\n",
    "\n",
    "print(f\"Model and tokenizer saved to {save_directory}\")\n"
   ]
  }
 ],
 "metadata": {
  "kernelspec": {
   "display_name": "Python 3 (ipykernel)",
   "language": "python",
   "name": "python3"
  },
  "language_info": {
   "codemirror_mode": {
    "name": "ipython",
    "version": 3
   },
   "file_extension": ".py",
   "mimetype": "text/x-python",
   "name": "python",
   "nbconvert_exporter": "python",
   "pygments_lexer": "ipython3",
   "version": "3.11.4"
  }
 },
 "nbformat": 4,
 "nbformat_minor": 5
}
