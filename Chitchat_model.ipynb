{
 "cells": [
  {
   "cell_type": "code",
   "execution_count": 3,
   "id": "a5844121",
   "metadata": {},
   "outputs": [],
   "source": [
    "# Use a pipeline as a high-level helper\n",
    "from transformers import pipeline\n",
    "\n",
    "pipe = pipeline(\"text2text-generation\", model=\"facebook/blenderbot-400M-distill\")"
   ]
  },
  {
   "cell_type": "code",
   "execution_count": 4,
   "id": "864e5761",
   "metadata": {},
   "outputs": [],
   "source": [
    "# Load model directly\n",
    "from transformers import AutoTokenizer, AutoModelForSeq2SeqLM\n",
    "\n",
    "tokenizer = AutoTokenizer.from_pretrained(\"facebook/blenderbot-400M-distill\")\n",
    "model = AutoModelForSeq2SeqLM.from_pretrained(\"facebook/blenderbot-400M-distill\")"
   ]
  },
  {
   "cell_type": "code",
   "execution_count": 5,
   "id": "5f2a8648",
   "metadata": {},
   "outputs": [],
   "source": [
    "def chat_with_blenderbot(input_text):\n",
    "    inputs = tokenizer(input_text, return_tensors=\"pt\")\n",
    "    outputs = model.generate(**inputs)\n",
    "    return tokenizer.decode(outputs[0], skip_special_tokens=True)"
   ]
  },
  {
   "cell_type": "code",
   "execution_count": 6,
   "id": "dc45b8e1",
   "metadata": {},
   "outputs": [
    {
     "name": "stdout",
     "output_type": "stream",
     "text": [
      "BlenderBot: Hello! Let's chat. Type 'exit' to end the conversation.\n",
      "You: Hi, how are you doing?\n"
     ]
    },
    {
     "name": "stderr",
     "output_type": "stream",
     "text": [
      "/Users/anirudh/anaconda3/lib/python3.11/site-packages/transformers/generation/utils.py:1346: UserWarning: Using `max_length`'s default (60) to control the generation length. This behaviour is deprecated and will be removed from the config in v5 of Transformers -- we recommend using `max_new_tokens` to control the maximum length of the generation.\n",
      "  warnings.warn(\n"
     ]
    },
    {
     "name": "stdout",
     "output_type": "stream",
     "text": [
      "BlenderBot:  I'm doing well, thank you. I hope you are as well. How are you?\n",
      "You: I doing well \n",
      "BlenderBot:  I'm glad to hear that. What do you do for a living, if you don't mind me asking?\n",
      "You: I do mind asking\n",
      "BlenderBot:  What do you want to know? I'm curious to know how you feel about it.\n",
      "You: Are you a mountain person or a beach person?\n",
      "BlenderBot:  I like both, but prefer the beach over mountains.  Do you have a preference?\n",
      "You: I love the mountains\n",
      "BlenderBot:  The mountains are beautiful. I love hiking in them. Do you like hiking?\n",
      "You: Yes I do\n",
      "BlenderBot:  What do you like to do in your free time? I like to read and watch movies.\n",
      "You: exit\n",
      "BlenderBot: Goodbye!\n"
     ]
    }
   ],
   "source": [
    "def chat_with_user():\n",
    "    print(\"BlenderBot: Hello! Let's chat. Type 'exit' to end the conversation.\")\n",
    "    while True:\n",
    "        user_input = input(\"You: \")\n",
    "        if user_input.lower() == \"exit\":\n",
    "            print(\"BlenderBot: Goodbye!\")\n",
    "            break\n",
    "        response = chat_with_blenderbot(user_input)\n",
    "        print(f\"BlenderBot: {response}\")\n",
    "\n",
    "# Start chat\n",
    "chat_with_user()\n"
   ]
  },
  {
   "cell_type": "code",
   "execution_count": null,
   "id": "ee3d29e2",
   "metadata": {},
   "outputs": [],
   "source": []
  },
  {
   "cell_type": "code",
   "execution_count": null,
   "id": "e8953c28",
   "metadata": {},
   "outputs": [],
   "source": []
  },
  {
   "cell_type": "code",
   "execution_count": null,
   "id": "1847a1fb",
   "metadata": {},
   "outputs": [],
   "source": []
  }
 ],
 "metadata": {
  "kernelspec": {
   "display_name": "Python 3 (ipykernel)",
   "language": "python",
   "name": "python3"
  },
  "language_info": {
   "codemirror_mode": {
    "name": "ipython",
    "version": 3
   },
   "file_extension": ".py",
   "mimetype": "text/x-python",
   "name": "python",
   "nbconvert_exporter": "python",
   "pygments_lexer": "ipython3",
   "version": "3.11.4"
  }
 },
 "nbformat": 4,
 "nbformat_minor": 5
}
